{
 "cells": [
  {
   "cell_type": "markdown",
   "id": "e95a8245-5e71-4e8f-9bc3-a4979fccfaa4",
   "metadata": {},
   "source": [
    "# Data Science Tools and Ecosystem"
   ]
  },
  {
   "cell_type": "markdown",
   "id": "07a1c2b5-7eee-4e59-89b3-10d5325cc7d8",
   "metadata": {},
   "source": [
    "In this notebook, Data Science Tools and Ecosystem are summarized"
   ]
  },
  {
   "cell_type": "markdown",
   "id": "1604db7b-38c7-49ab-9f62-8502d1b98338",
   "metadata": {},
   "source": [
    "Some of the popular languages that Data Scientist uses are:\n",
    "\n",
    "Python\n",
    "R\n",
    "SQL\n",
    "C++\n",
    "Java\n",
    "Php\n",
    "\n",
    "\n"
   ]
  },
  {
   "cell_type": "markdown",
   "id": "008bbec9-59d9-4cdc-83b2-5fbaf91bcebc",
   "metadata": {},
   "source": [
    "Some of the commonly used libraries by Data Scientists include:\n",
    "\n",
    "1. Pandas\n",
    "2. Numpy\n",
    "3. Matplotlib\n",
    "4. Seaborn\n",
    "5. Sickit-learn\n",
    "6. Keras\n",
    "\n",
    "\n",
    "\n",
    "\n"
   ]
  },
  {
   "cell_type": "markdown",
   "id": "8627f5f3-d292-4372-8b92-1ebd23a36da0",
   "metadata": {},
   "source": [
    "\n",
    "\n",
    "|  Data Science Tools  |\n",
    "| ------------------  |\n",
    "| Anaconda         |\n",
    "| JupyterNotebook  |\n",
    "| R Studie         |\n",
    "| Spyder           |\n",
    "| Zeppelin         |\n",
    "\n",
    "\n",
    " \n",
    " \n",
    "\n"
   ]
  },
  {
   "cell_type": "markdown",
   "id": "288d5215-7a58-48f0-ab77-206616994515",
   "metadata": {},
   "source": [
    "### Below are a few examples of evaluating arithmetic expressions in Python"
   ]
  },
  {
   "cell_type": "code",
   "execution_count": 1,
   "id": "a8cdf31f-1533-4e64-8ad8-6a7aaeb075f1",
   "metadata": {},
   "outputs": [
    {
     "data": {
      "text/plain": [
       "17"
      ]
     },
     "execution_count": 1,
     "metadata": {},
     "output_type": "execute_result"
    }
   ],
   "source": [
    " # This is a simple arithmetic expression to multiply and then add integers\n",
    " (3*4)+5\n",
    " "
   ]
  },
  {
   "cell_type": "code",
   "execution_count": 7,
   "id": "db16f8b3-2a50-4913-9420-7074c6992ced",
   "metadata": {},
   "outputs": [
    {
     "data": {
      "text/plain": [
       "3.3333333333333335"
      ]
     },
     "execution_count": 7,
     "metadata": {},
     "output_type": "execute_result"
    }
   ],
   "source": [
    "# This will convert 200 minutes to hours by dividing by 60\n",
    "\n",
    "minutes = 200\n",
    "hours = minutes/60\n",
    "hours"
   ]
  },
  {
   "cell_type": "markdown",
   "id": "e140067a-8d63-48be-bfcd-63d23fe97836",
   "metadata": {},
   "source": [
    "**Objectives**\n",
    "\n",
    "- Add Comments to code cell.\n",
    "- Create Markdown\n",
    "- Understand how to convert time units using Python\n",
    "- Learn basic Python Syntax and expressions\n",
    "- Explore markdown formatting in Jupyter Notebooks\n",
    "  "
   ]
  },
  {
   "cell_type": "markdown",
   "id": "86d9539d-9109-4bd0-a870-91ea49f66e38",
   "metadata": {},
   "source": [
    "**Author:** \n",
    "\n",
    " Tapash Das"
   ]
  },
  {
   "cell_type": "code",
   "execution_count": null,
   "id": "0ee73e8c-26d3-4e74-a82c-5c23de5b0faf",
   "metadata": {},
   "outputs": [],
   "source": []
  }
 ],
 "metadata": {
  "kernelspec": {
   "display_name": "Python 3 (ipykernel)",
   "language": "python",
   "name": "python3"
  },
  "language_info": {
   "codemirror_mode": {
    "name": "ipython",
    "version": 3
   },
   "file_extension": ".py",
   "mimetype": "text/x-python",
   "name": "python",
   "nbconvert_exporter": "python",
   "pygments_lexer": "ipython3",
   "version": "3.12.7"
  }
 },
 "nbformat": 4,
 "nbformat_minor": 5
}
